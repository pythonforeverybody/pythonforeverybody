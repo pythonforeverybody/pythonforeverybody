{
  "nbformat": 4,
  "nbformat_minor": 0,
  "metadata": {
    "colab": {
      "name": "Python_Important.ipynb",
      "provenance": [],
      "collapsed_sections": []
    },
    "kernelspec": {
      "name": "python3",
      "display_name": "Python 3"
    },
    "language_info": {
      "name": "python"
    }
  },
  "cells": [
    {
      "cell_type": "markdown",
      "metadata": {
        "id": "Zi1VDbit2qMO"
      },
      "source": [
        "## Important Python Concepts\n",
        "\n",
        "\n",
        "1.   Import\n",
        "2.   Load Modules\n",
        "3.dir\n",
        "4. __doc__\n",
        "5. help\n",
        "\n"
      ]
    },
    {
      "cell_type": "markdown",
      "source": [
        "###Writing new jokes telling program"
      ],
      "metadata": {
        "id": "yU2ANi-RN_Tv"
      }
    },
    {
      "cell_type": "code",
      "source": [
        "!pip install pyjokes"
      ],
      "metadata": {
        "id": "mB3e_GJFPipW"
      },
      "execution_count": null,
      "outputs": []
    },
    {
      "cell_type": "code",
      "metadata": {
        "id": "vCUwKcMxhPFp"
      },
      "source": [
        "import pyjokes as jokes"
      ],
      "execution_count": null,
      "outputs": []
    },
    {
      "cell_type": "code",
      "source": [
        "jokes.get_joke()"
      ],
      "metadata": {
        "id": "X_gXoBsCPwPv"
      },
      "execution_count": null,
      "outputs": []
    },
    {
      "cell_type": "code",
      "source": [
        "jokes.get_jokes()"
      ],
      "metadata": {
        "id": "CRMOPnWsP4_t"
      },
      "execution_count": null,
      "outputs": []
    },
    {
      "cell_type": "markdown",
      "source": [
        "###Installing new packages in colab\n",
        "\n",
        "\n",
        "1.   Using the packages\n",
        "2.   Import \n",
        "\n"
      ],
      "metadata": {
        "id": "_KEUtaflMvjP"
      }
    },
    {
      "cell_type": "code",
      "metadata": {
        "id": "jRPgSZ-ehU78"
      },
      "source": [
        "! pip install pandas"
      ],
      "execution_count": null,
      "outputs": []
    },
    {
      "cell_type": "markdown",
      "source": [
        "###dir to look all the functionalites of a pacakge"
      ],
      "metadata": {
        "id": "0Yt9mJdLNI32"
      }
    },
    {
      "cell_type": "code",
      "source": [
        "dir(jokes)"
      ],
      "metadata": {
        "id": "vDSTLm1YNX9d"
      },
      "execution_count": null,
      "outputs": []
    },
    {
      "cell_type": "code",
      "source": [
        "jokes.jokes_de"
      ],
      "metadata": {
        "id": "gR3kmfCmNXzI"
      },
      "execution_count": null,
      "outputs": []
    },
    {
      "cell_type": "markdown",
      "source": [
        "###doc\n",
        "```\n",
        ".__doc__\n",
        "```"
      ],
      "metadata": {
        "id": "5ZKAbx9pNYte"
      }
    },
    {
      "cell_type": "code",
      "source": [
        "jokes.jokes_de"
      ],
      "metadata": {
        "id": "vNl4YTcCQ3mE"
      },
      "execution_count": null,
      "outputs": []
    },
    {
      "cell_type": "markdown",
      "source": [
        "###help\n",
        "```\n",
        "help(package_name)\n",
        "```"
      ],
      "metadata": {
        "id": "OM9ypTmRNvk1"
      }
    },
    {
      "cell_type": "code",
      "source": [
        "help(jokes.jokes_de)"
      ],
      "metadata": {
        "id": "oQQXCSEJRHBT"
      },
      "execution_count": null,
      "outputs": []
    },
    {
      "cell_type": "code",
      "source": [
        "import math"
      ],
      "metadata": {
        "id": "GXAKWA6lRd-z"
      },
      "execution_count": null,
      "outputs": []
    },
    {
      "cell_type": "code",
      "source": [
        "help(math.cos)"
      ],
      "metadata": {
        "id": "GIvq5ksXRYzb"
      },
      "execution_count": null,
      "outputs": []
    },
    {
      "cell_type": "code",
      "source": [
        "math.cos(0)"
      ],
      "metadata": {
        "colab": {
          "base_uri": "https://localhost:8080/"
        },
        "id": "I5Mov8YPRuZ6",
        "outputId": "8e4a4e0f-c7e7-460d-dbca-4fa1cc2d5e95"
      },
      "execution_count": null,
      "outputs": [
        {
          "output_type": "execute_result",
          "data": {
            "text/plain": [
              "1.0"
            ]
          },
          "metadata": {},
          "execution_count": 19
        }
      ]
    },
    {
      "cell_type": "code",
      "source": [
        ""
      ],
      "metadata": {
        "id": "_3t9xjcMWmnK"
      },
      "execution_count": null,
      "outputs": []
    }
  ]
}