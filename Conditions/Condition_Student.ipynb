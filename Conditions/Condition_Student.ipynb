{
  "nbformat": 4,
  "nbformat_minor": 0,
  "metadata": {
    "colab": {
      "name": "Condition-Student.ipynb",
      "provenance": []
    },
    "kernelspec": {
      "name": "python3",
      "display_name": "Python 3"
    },
    "language_info": {
      "name": "python"
    }
  },
  "cells": [
    {
      "cell_type": "markdown",
      "source": [
        "### Stock Trading Robot"
      ],
      "metadata": {
        "id": "cDDFMnDQW1Ez"
      }
    },
    {
      "cell_type": "code",
      "source": [
        "apple_stock_change=2\n",
        "#price decreasing=sell\n",
        "#price increasing within 1 percent=hold\n",
        "#price increasing by more than 1 percent then, we buy\n",
        "\n",
        "if apple_stock_change <=0:\n",
        "  print('Please sell the stock')\n",
        "elif apple_stock_change >0 and apple_stock_change <1:\n",
        "  print('Hold the apple stock')\n",
        "else:\n",
        "  print('buy the apple stock')"
      ],
      "metadata": {
        "colab": {
          "base_uri": "https://localhost:8080/"
        },
        "id": "wvZskz_rWrUD",
        "outputId": "a101492e-fd55-4769-a74c-beecd8ed7f51"
      },
      "execution_count": null,
      "outputs": [
        {
          "output_type": "stream",
          "name": "stdout",
          "text": [
            "buy the apple stock\n"
          ]
        }
      ]
    },
    {
      "cell_type": "code",
      "source": [
        ""
      ],
      "metadata": {
        "id": "Mq9KlN7LX4uA"
      },
      "execution_count": null,
      "outputs": []
    },
    {
      "cell_type": "markdown",
      "metadata": {
        "id": "37HVG91Xyu1a"
      },
      "source": [
        "## Is Milk Drinkable?\n",
        "**If else is nothing, but just common logic you use in your day to day life**\n",
        "\n",
        "###Let's make robot that will identify if the milk in freez is drinkable\n",
        "\n",
        "\n",
        "*   if the milk is within expiry date==> yes\n",
        "*   If the expiry date has passed less or equal to 2 days, and smell good\n",
        "    ==>yes\n",
        "* otherwise throw the milk\n",
        "\n",
        "\n"
      ]
    },
    {
      "cell_type": "code",
      "metadata": {
        "colab": {
          "base_uri": "https://localhost:8080/"
        },
        "id": "3Z7jsT8hnAli",
        "outputId": "06a4e63e-a6e5-4280-ff17-417733709bd3"
      },
      "source": [
        "\n",
        "days_since_expired =1\n",
        "\n",
        "smell='good'\n",
        "\n",
        "if (days_since_expired<=0):\n",
        "  print('the milk is safe')\n",
        "elif (days_since_expired <= 2 and smell=='good'):\n",
        "  print('the milk is safe')\n",
        "else:\n",
        "  print('please throw the milk')\n"
      ],
      "execution_count": null,
      "outputs": [
        {
          "output_type": "stream",
          "name": "stdout",
          "text": [
            "the milk is safe\n"
          ]
        }
      ]
    },
    {
      "cell_type": "code",
      "metadata": {
        "id": "3qOA5rWGzo6G"
      },
      "source": [
        ""
      ],
      "execution_count": null,
      "outputs": []
    }
  ]
}