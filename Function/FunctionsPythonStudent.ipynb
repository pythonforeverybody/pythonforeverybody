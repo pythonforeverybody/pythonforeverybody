{
  "nbformat": 4,
  "nbformat_minor": 0,
  "metadata": {
    "colab": {
      "name": " Functions_Python-Student.ipynb",
      "provenance": [],
      "collapsed_sections": []
    },
    "kernelspec": {
      "name": "python3",
      "display_name": "Python 3"
    },
    "language_info": {
      "name": "python"
    }
  },
  "cells": [
    {
      "cell_type": "code",
      "source": [
        "from pandas import DataFrame"
      ],
      "metadata": {
        "id": "eVgdWtzweTLJ"
      },
      "execution_count": 1,
      "outputs": []
    },
    {
      "cell_type": "code",
      "source": [
        "import pandas as pd\n",
        "import matplotlib.pyplot as plt"
      ],
      "metadata": {
        "id": "auL3PHP4eBSn"
      },
      "execution_count": null,
      "outputs": []
    },
    {
      "cell_type": "markdown",
      "source": [
        "## Create a Function that takes stockes data as pandas dataframe and plot Expotential Moving Average\n",
        "###Hint\n",
        "```\n",
        "  df_ema=df['Close'].to_frame()\n",
        "  df_ema['EWMA30'] = df_ema['Close'].ewm(span=30).mean()\n",
        "  plt.plot(df_ema['Close'], label=\"Close Price\", color=\"blue\")\n",
        "  plt.plot(df_ema['EWMA30'], label=\"EMA Values\", color=\"green\")\n",
        "  plt.xlabel(\"Days\")\n",
        "  plt.ylabel(\"Price\")\n",
        "  plt.legend()\n",
        "  plt.show()\n",
        "```"
      ],
      "metadata": {
        "id": "ZZMos6JcahRM"
      }
    },
    {
      "cell_type": "markdown",
      "source": [
        "##Complete your solution in below cell.\n"
      ],
      "metadata": {
        "id": "blcfAZklbutB"
      }
    },
    {
      "cell_type": "code",
      "source": [
        "\n",
        "def exponential_moving_avg(df:DataFrame):\n",
        "  \"\"\"\n",
        "  Gets last 30 periods closing price, and return\n",
        "\t \texpotential moving average\n",
        "\n",
        "    Parameters\n",
        "    ----------\n",
        "    df : Dataframe\n",
        "        The dataframe should have column 'close'\n",
        "   \n",
        "    Returns\n",
        "    -------\n",
        "    None\n",
        "         it will plot the moving average chart\n",
        "  \"\"\"\n",
        "  \n",
        "  ### WRITE CODE HERE\n",
        "\n",
        "  return None"
      ],
      "metadata": {
        "id": "3Ge9Z0WThcEY"
      },
      "execution_count": 2,
      "outputs": []
    },
    {
      "cell_type": "markdown",
      "source": [
        "#Use the function Multiple times to plot EMA for multiple stock\n",
        "* Create dataframe with stock data\n",
        "* Call function declared above to plot\n",
        "\n",
        "###hint\n",
        "```\n",
        "aapl=pd .read_csv('/content/AAPL.csv')\n",
        "msft=pd .read_csv('/content/MSFT.csv')\n",
        "\n",
        "exponential_moving_avg(msft)\n",
        "exponential_moving_avg(aapl)\n",
        "\n",
        "```"
      ],
      "metadata": {
        "id": "rDMzxIf4bz9k"
      }
    },
    {
      "cell_type": "markdown",
      "source": [
        ""
      ],
      "metadata": {
        "id": "pn-I07Ofbdvl"
      }
    },
    {
      "cell_type": "markdown",
      "source": [
        "##Complete your code below: The output will be EMA chart"
      ],
      "metadata": {
        "id": "ROzVZhQ0cH5p"
      }
    },
    {
      "cell_type": "code",
      "source": [
        ""
      ],
      "metadata": {
        "id": "p-sYcfMYcWCd"
      },
      "execution_count": null,
      "outputs": []
    },
    {
      "cell_type": "markdown",
      "source": [
        "#Emoji Creating Function\n",
        "\n",
        "*   Create a function that gives you a emoji\n",
        "*   Call function and create diffrent emoji\n",
        "\n"
      ],
      "metadata": {
        "id": "ciw7KrbdcXC0"
      }
    },
    {
      "cell_type": "code",
      "metadata": {
        "colab": {
          "base_uri": "https://localhost:8080/"
        },
        "id": "gaqm2Xy6ylFc",
        "outputId": "d47affb0-9e1d-44a8-e047-bbe70f5b1292"
      },
      "source": [
        "!pip install emoji"
      ],
      "execution_count": null,
      "outputs": [
        {
          "output_type": "stream",
          "name": "stdout",
          "text": [
            "Collecting emoji\n",
            "  Downloading emoji-1.7.0.tar.gz (175 kB)\n",
            "\u001b[?25l\r\u001b[K     |█▉                              | 10 kB 27.0 MB/s eta 0:00:01\r\u001b[K     |███▊                            | 20 kB 35.3 MB/s eta 0:00:01\r\u001b[K     |█████▋                          | 30 kB 37.3 MB/s eta 0:00:01\r\u001b[K     |███████▌                        | 40 kB 12.4 MB/s eta 0:00:01\r\u001b[K     |█████████▍                      | 51 kB 13.4 MB/s eta 0:00:01\r\u001b[K     |███████████▏                    | 61 kB 15.6 MB/s eta 0:00:01\r\u001b[K     |█████████████                   | 71 kB 11.8 MB/s eta 0:00:01\r\u001b[K     |███████████████                 | 81 kB 12.8 MB/s eta 0:00:01\r\u001b[K     |████████████████▉               | 92 kB 14.1 MB/s eta 0:00:01\r\u001b[K     |██████████████████▊             | 102 kB 13.0 MB/s eta 0:00:01\r\u001b[K     |████████████████████▌           | 112 kB 13.0 MB/s eta 0:00:01\r\u001b[K     |██████████████████████▍         | 122 kB 13.0 MB/s eta 0:00:01\r\u001b[K     |████████████████████████▎       | 133 kB 13.0 MB/s eta 0:00:01\r\u001b[K     |██████████████████████████▏     | 143 kB 13.0 MB/s eta 0:00:01\r\u001b[K     |████████████████████████████    | 153 kB 13.0 MB/s eta 0:00:01\r\u001b[K     |█████████████████████████████▉  | 163 kB 13.0 MB/s eta 0:00:01\r\u001b[K     |███████████████████████████████▊| 174 kB 13.0 MB/s eta 0:00:01\r\u001b[K     |████████████████████████████████| 175 kB 13.0 MB/s \n",
            "\u001b[?25hBuilding wheels for collected packages: emoji\n",
            "  Building wheel for emoji (setup.py) ... \u001b[?25l\u001b[?25hdone\n",
            "  Created wheel for emoji: filename=emoji-1.7.0-py3-none-any.whl size=171046 sha256=040c48012cd6a1b39245680ed01afc0fc08a2cac04572b46c0b1132a6abd8a89\n",
            "  Stored in directory: /root/.cache/pip/wheels/8a/4e/b6/57b01db010d17ef6ea9b40300af725ef3e210cb1acfb7ac8b6\n",
            "Successfully built emoji\n",
            "Installing collected packages: emoji\n",
            "Successfully installed emoji-1.7.0\n"
          ]
        }
      ]
    },
    {
      "cell_type": "markdown",
      "source": [
        "##Hint\n",
        "\n",
        "###Function declaration\n",
        "```\n",
        "def generate_emoji(word):\n",
        "  print('The emoji of ' + word + ' is '+ emoji.emojize(word))\n",
        "```\n",
        "\n",
        "###Function Call\n",
        "generate_emoji(':red_heart:')"
      ],
      "metadata": {
        "id": "hpyXAZcJqSGl"
      }
    },
    {
      "cell_type": "markdown",
      "source": [
        "#Complete the program below"
      ],
      "metadata": {
        "id": "EEdjq3Isqj1c"
      }
    },
    {
      "cell_type": "code",
      "source": [
        ""
      ],
      "metadata": {
        "id": "FMyS1lA0qp-E"
      },
      "execution_count": null,
      "outputs": []
    }
  ]
}