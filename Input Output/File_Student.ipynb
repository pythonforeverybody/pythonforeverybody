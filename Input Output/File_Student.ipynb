{
  "nbformat": 4,
  "nbformat_minor": 0,
  "metadata": {
    "colab": {
      "name": "File.ipynb",
      "provenance": [],
      "collapsed_sections": []
    },
    "kernelspec": {
      "name": "python3",
      "display_name": "Python 3"
    },
    "language_info": {
      "name": "python"
    }
  },
  "cells": [
    {
      "cell_type": "markdown",
      "metadata": {
        "id": "JgxJhR6M-FO5"
      },
      "source": [
        "# File IO\n"
      ]
    },
    {
      "cell_type": "code",
      "source": [
        "file_open= open(\"/content/richest_person.txt\", \"r\")\n",
        "file_open= open(\"/content/richest_person.txt\", \"w\")"
      ],
      "metadata": {
        "id": "E0q3TUV5wPlh"
      },
      "execution_count": null,
      "outputs": []
    },
    {
      "cell_type": "code",
      "metadata": {
        "id": "ZHWPCxjG-MQW"
      },
      "source": [
        "file_open= open(\"/content/richest_person.txt\", \"r\")\n",
        "for line in file_open:\n",
        "  print(line)\n",
        "file_open.close()"
      ],
      "execution_count": null,
      "outputs": []
    },
    {
      "cell_type": "code",
      "metadata": {
        "id": "yFm3yIDh_Gnq"
      },
      "source": [
        "file_open= open(\"/content/richest_person.txt\", \"r\")\n",
        "str1=file_open.read()\n",
        "file_open.close()"
      ],
      "execution_count": null,
      "outputs": []
    },
    {
      "cell_type": "code",
      "source": [
        "print(str1)"
      ],
      "metadata": {
        "colab": {
          "base_uri": "https://localhost:8080/"
        },
        "id": "0vV7vkTTw0uX",
        "outputId": "7e944d79-9df7-4e49-e176-bdb0fbe83de0"
      },
      "execution_count": null,
      "outputs": [
        {
          "output_type": "stream",
          "name": "stdout",
          "text": [
            "Mansa Musa (https://en.wikipedia.org/wiki/Mansa_Musa)\n",
            "\n",
            "Mansa Musa is renowned for his wealth and generosity. Online articles in the 21st century\n",
            " have claimed that Musa Musa was the richest person of all time.[87] This claim is often sourced\n",
            "to an article in CelebrityNetWorth,[87]\n",
            "which claims that Musa's wealth was the equivalent of US$400 billion.\n",
            "[88] CelebrityNetWorth has been criticized for the unreliability of its estimates.\n",
            "[89] Historians such as Hadrian Collet have argued that Musa's wealth is impossible to accurately calculate.[87][83] Contemporary Arabic sources may have been trying to express that Musa had more gold than they thought possible, rather than trying to give an exact number\n",
            ".[90] Furthermore, it is difficult to meaningfully compare the wealth of historical figures such as Mansa Musa, due to the difficulty of separating the personal wealth of a monarch \n",
            "from the wealth of the state and the difficulty of comparing wealth in highly different societies.[91] Musa may have brought as much as 18 tons of gold on his hajj,[92] equal\n",
            "in value to over US$957 million in 2022.[93] Musa himself further promoted the appearance of having vast, inexhaustible wealth by spreading rumors that gold grew like a plant in his kingdom.[94]\n",
            "\n",
            "\n",
            "\n",
            "\n",
            "\n",
            "\n"
          ]
        }
      ]
    },
    {
      "cell_type": "code",
      "metadata": {
        "colab": {
          "base_uri": "https://localhost:8080/"
        },
        "id": "tImtRh-Y_inU",
        "outputId": "d45ba409-fb53-4dca-87da-37cf22c3f32b"
      },
      "source": [
        "file_open_w= open(\"/content/richest_person.txt1\", \"w\")\n",
        "file_open_r= open(\"/content/richest_person.txt\", \"r\")\n",
        "for line_r in file_open_r:\n",
        "  line_r=line_r.upper()\n",
        "  print(line_r)\n",
        "  file_open_w.write(line_r)\n",
        "file_open_r.close()\n",
        "file_open_w.close()\n",
        "\n"
      ],
      "execution_count": null,
      "outputs": [
        {
          "output_type": "stream",
          "name": "stdout",
          "text": [
            "MANSA MUSA (HTTPS://EN.WIKIPEDIA.ORG/WIKI/MANSA_MUSA)\n",
            "\n",
            "\n",
            "\n",
            "MANSA MUSA IS RENOWNED FOR HIS WEALTH AND GENEROSITY. ONLINE ARTICLES IN THE 21ST CENTURY\n",
            "\n",
            " HAVE CLAIMED THAT MUSA MUSA WAS THE RICHEST PERSON OF ALL TIME.[87] THIS CLAIM IS OFTEN SOURCED\n",
            "\n",
            "TO AN ARTICLE IN CELEBRITYNETWORTH,[87]\n",
            "\n",
            "WHICH CLAIMS THAT MUSA'S WEALTH WAS THE EQUIVALENT OF US$400 BILLION.\n",
            "\n",
            "[88] CELEBRITYNETWORTH HAS BEEN CRITICIZED FOR THE UNRELIABILITY OF ITS ESTIMATES.\n",
            "\n",
            "[89] HISTORIANS SUCH AS HADRIAN COLLET HAVE ARGUED THAT MUSA'S WEALTH IS IMPOSSIBLE TO ACCURATELY CALCULATE.[87][83] CONTEMPORARY ARABIC SOURCES MAY HAVE BEEN TRYING TO EXPRESS THAT MUSA HAD MORE GOLD THAN THEY THOUGHT POSSIBLE, RATHER THAN TRYING TO GIVE AN EXACT NUMBER\n",
            "\n",
            ".[90] FURTHERMORE, IT IS DIFFICULT TO MEANINGFULLY COMPARE THE WEALTH OF HISTORICAL FIGURES SUCH AS MANSA MUSA, DUE TO THE DIFFICULTY OF SEPARATING THE PERSONAL WEALTH OF A MONARCH \n",
            "\n",
            "FROM THE WEALTH OF THE STATE AND THE DIFFICULTY OF COMPARING WEALTH IN HIGHLY DIFFERENT SOCIETIES.[91] MUSA MAY HAVE BROUGHT AS MUCH AS 18 TONS OF GOLD ON HIS HAJJ,[92] EQUAL\n",
            "\n",
            "IN VALUE TO OVER US$957 MILLION IN 2022.[93] MUSA HIMSELF FURTHER PROMOTED THE APPEARANCE OF HAVING VAST, INEXHAUSTIBLE WEALTH BY SPREADING RUMORS THAT GOLD GREW LIKE A PLANT IN HIS KINGDOM.[94]\n",
            "\n",
            "\n",
            "\n",
            "\n",
            "\n",
            "\n",
            "\n",
            "\n",
            "\n",
            "\n",
            "\n"
          ]
        }
      ]
    },
    {
      "cell_type": "code",
      "metadata": {
        "id": "qIKMkkrc2pex"
      },
      "source": [
        "file_open= open(\"/content/richest_person.txt1\", \"r\")\n",
        "str1=file_open.read()\n",
        "file_open.close()"
      ],
      "execution_count": null,
      "outputs": []
    },
    {
      "cell_type": "code",
      "metadata": {
        "id": "efjB3n0K3PFH",
        "colab": {
          "base_uri": "https://localhost:8080/"
        },
        "outputId": "0df8585e-61cc-46b1-8cd1-16f16dab571c"
      },
      "source": [
        "print(str1)"
      ],
      "execution_count": null,
      "outputs": [
        {
          "output_type": "stream",
          "name": "stdout",
          "text": [
            "MANSA MUSA (HTTPS://EN.WIKIPEDIA.ORG/WIKI/MANSA_MUSA)\n",
            "\n",
            "MANSA MUSA IS RENOWNED FOR HIS WEALTH AND GENEROSITY. ONLINE ARTICLES IN THE 21ST CENTURY\n",
            " HAVE CLAIMED THAT MUSA MUSA WAS THE RICHEST PERSON OF ALL TIME.[87] THIS CLAIM IS OFTEN SOURCED\n",
            "TO AN ARTICLE IN CELEBRITYNETWORTH,[87]\n",
            "WHICH CLAIMS THAT MUSA'S WEALTH WAS THE EQUIVALENT OF US$400 BILLION.\n",
            "[88] CELEBRITYNETWORTH HAS BEEN CRITICIZED FOR THE UNRELIABILITY OF ITS ESTIMATES.\n",
            "[89] HISTORIANS SUCH AS HADRIAN COLLET HAVE ARGUED THAT MUSA'S WEALTH IS IMPOSSIBLE TO ACCURATELY CALCULATE.[87][83] CONTEMPORARY ARABIC SOURCES MAY HAVE BEEN TRYING TO EXPRESS THAT MUSA HAD MORE GOLD THAN THEY THOUGHT POSSIBLE, RATHER THAN TRYING TO GIVE AN EXACT NUMBER\n",
            ".[90] FURTHERMORE, IT IS DIFFICULT TO MEANINGFULLY COMPARE THE WEALTH OF HISTORICAL FIGURES SUCH AS MANSA MUSA, DUE TO THE DIFFICULTY OF SEPARATING THE PERSONAL WEALTH OF A MONARCH \n",
            "FROM THE WEALTH OF THE STATE AND THE DIFFICULTY OF COMPARING WEALTH IN HIGHLY DIFFERENT SOCIETIES.[91] MUSA MAY HAVE BROUGHT AS MUCH AS 18 TONS OF GOLD ON HIS HAJJ,[92] EQUAL\n",
            "IN VALUE TO OVER US$957 MILLION IN 2022.[93] MUSA HIMSELF FURTHER PROMOTED THE APPEARANCE OF HAVING VAST, INEXHAUSTIBLE WEALTH BY SPREADING RUMORS THAT GOLD GREW LIKE A PLANT IN HIS KINGDOM.[94]\n",
            "\n",
            "\n",
            "\n",
            "\n",
            "\n",
            "\n"
          ]
        }
      ]
    },
    {
      "cell_type": "code",
      "source": [
        ""
      ],
      "metadata": {
        "id": "3_gVuc7NxZHE"
      },
      "execution_count": null,
      "outputs": []
    }
  ]
}