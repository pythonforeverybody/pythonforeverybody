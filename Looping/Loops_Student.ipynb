{
  "nbformat": 4,
  "nbformat_minor": 0,
  "metadata": {
    "colab": {
      "name": "Loops-Student.ipynb",
      "provenance": []
    },
    "kernelspec": {
      "name": "python3",
      "display_name": "Python 3"
    },
    "language_info": {
      "name": "python"
    }
  },
  "cells": [
    {
      "cell_type": "markdown",
      "source": [
        "#For Loop\n",
        "## Find the total Price of Basket"
      ],
      "metadata": {
        "id": "SLiNUTwor7u0"
      }
    },
    {
      "cell_type": "code",
      "execution_count": null,
      "metadata": {
        "id": "HZ0g9THzr5mP"
      },
      "outputs": [],
      "source": [
        "baskets= [('Honey Crisp Apple', 3,3.99), \\\n",
        "        ('Organic Milk', 1,6.49), \\\n",
        "        ('Raos Pasta',2,3.49),\\\n",
        "        ('Heineken Beer',1,11.49), \\\n",
        "        ('Roma Tomato', 4, 1.39),\\\n",
        "        ('Salad', 3,4.99) ]\n",
        "tax_rate=8.89"
      ]
    },
    {
      "cell_type": "markdown",
      "source": [
        "##HINT\n",
        "```\n",
        "total_price=0\n",
        "for item in baskets:\n",
        "  name, size, price =item[0],item[1],item[2]\n",
        "  price_before_tax=size*price\n",
        "  price_after_tax= price_before_tax + (tax_rate/ 100) *price_before_tax\n",
        "  print('price of ' + name + ' is ' + str(price_after_tax))\n",
        "  total_price= total_price+price_after_tax\n",
        "```"
      ],
      "metadata": {
        "id": "TMm6UNj_VsCo"
      }
    },
    {
      "cell_type": "markdown",
      "source": [
        "###Please Write Your Solution"
      ],
      "metadata": {
        "id": "2flWWsydW1ns"
      }
    },
    {
      "cell_type": "code",
      "source": [
        ""
      ],
      "metadata": {
        "id": "BYAgKAGU0T3V"
      },
      "execution_count": null,
      "outputs": []
    },
    {
      "cell_type": "markdown",
      "source": [
        "#While\n",
        "```\n",
        "while (condition is True):\n",
        "  repeat\n",
        "```"
      ],
      "metadata": {
        "id": "mTsX7gTR3NVm"
      }
    },
    {
      "cell_type": "markdown",
      "source": [
        "## Find the place where the lost item is located"
      ],
      "metadata": {
        "id": "h84jzvZcWoz2"
      }
    },
    {
      "cell_type": "code",
      "source": [
        "hotel_room=[\n",
        "\t(\"table\", [\"coca-cola\", \"phone\", \"flower tray\",\"last_night_drink\", \"book-algorithms to live by\" ]), \\\n",
        "\t(\"bed_1\", []), \\\n",
        "\t(\"sofa\", [\"car_key\"]),\\\n",
        "\t(\"lamp_table\",[\"lamp\",\"water bottle\", \"bible\"]) \\\n",
        "]\n",
        "\n",
        "lost_item='water bottle'"
      ],
      "metadata": {
        "id": "BJu-TwzSwUEd"
      },
      "execution_count": null,
      "outputs": []
    },
    {
      "cell_type": "markdown",
      "source": [
        "###HINT\n",
        "```\n",
        "\n",
        "length=len(hotel_room)\n",
        "key_found=False\n",
        "i=0\n",
        "\n",
        "while not key_found:  \n",
        "  item_in_list=hotel_room[i]\n",
        "  room_area=item_in_list[0]\n",
        "  items=item_in_list[1]\n",
        "  if lost_item in items:\n",
        "    print('The lost item is at ' + room_area )\n",
        "    key_found=True\n",
        "  i=i+1\n",
        "\n",
        "```"
      ],
      "metadata": {
        "id": "GX-Ub5X7WGp0"
      }
    },
    {
      "cell_type": "markdown",
      "source": [
        "###Please Write Your Solution\n",
        "\n"
      ],
      "metadata": {
        "id": "m43ppBZ6WOlm"
      }
    },
    {
      "cell_type": "code",
      "source": [
        ""
      ],
      "metadata": {
        "id": "OztdPxAK6M7C"
      },
      "execution_count": null,
      "outputs": []
    }
  ]
}